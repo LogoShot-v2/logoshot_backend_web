{
 "cells": [
  {
   "cell_type": "code",
   "execution_count": 19,
   "id": "b0077788-d9db-416d-a799-700a44b78b7f",
   "metadata": {},
   "outputs": [],
   "source": [
    "search = \"/home/metadragons/backend/uploadedImages/1638330133734.png\""
   ]
  },
  {
   "cell_type": "code",
   "execution_count": 20,
   "id": "de7dc11a-d97b-4de4-9cb0-4fcb53f06f15",
   "metadata": {},
   "outputs": [],
   "source": [
    "resultPath_list = ['/service/trademark/raw_register_data/TrademarkRegXMLB_041010/imagesdata/egimg_100014345_1_041010.jpg', '/service/trademark/raw_register_data/TrademarkRegXMLB_041010/imagesdata/egimg_101041487_1_041010.jpg', '/service/trademark/raw_register_data/TrademarkRegXMLB_041010/imagesdata/egimg_101062354_1_041010.jpg', '/service/trademark/raw_register_data/TrademarkRegXMLB_041010/imagesdata/egimg_102007893_1_041010.jpg', '/service/trademark/raw_register_data/TrademarkRegXMLB_041010/imagesdata/egimg_102008004_1_041010.jpg', '/service/trademark/raw_register_data/TrademarkRegXMLB_041010/imagesdata/egimg_102008582_1_041010.jpg', '/service/trademark/raw_register_data/TrademarkRegXMLB_041010/imagesdata/egimg_102022039_1_041010.jpg', '/service/trademark/raw_register_data/TrademarkRegXMLB_041010/imagesdata/egimg_102023625_1_041010.jpg', '/service/trademark/raw_register_data/TrademarkRegXMLB_041009/imagesdata/egimg_102027465_1_041009.jpg', '/service/trademark/raw_register_data/TrademarkRegXMLB_041010/imagesdata/egimg_102027671_1_041010.jpg', '/service/trademark/raw_register_data/TrademarkRegXMLB_041010/imagesdata/egimg_102029589_1_041010.jpg', '/service/trademark/raw_register_data/TrademarkRegXMLB_041010/imagesdata/egimg_102031634_1_041010.jpg', '/service/trademark/raw_register_data/TrademarkRegXMLB_041010/imagesdata/egimg_102031884_1_041010.jpg', '/service/trademark/raw_register_data/TrademarkRegXMLB_041010/imagesdata/egimg_102034080_1_041010.jpg', '/service/trademark/raw_register_data/TrademarkRegXMLB_041010/imagesdata/egimg_102034907_1_041010.jpg', '/service/trademark/raw_register_data/TrademarkRegXMLB_041010/imagesdata/egimg_102036191_1_041010.jpg', '/service/trademark/raw_register_data/TrademarkRegXMLB_041009/imagesdata/egimg_102038150_1_041009.jpg', '/service/trademark/raw_register_data/TrademarkRegXMLB_041009/imagesdata/egimg_102044170_1_041009.jpg', '/service/trademark/raw_register_data/TrademarkRegXMLB_041010/imagesdata/egimg_102045592_1_041010.jpg', '/service/trademark/raw_register_data/TrademarkRegXMLB_041009/imagesdata/egimg_102045882_1_041009.jpg']"
   ]
  },
  {
   "cell_type": "code",
   "execution_count": 14,
   "id": "d57490b9-045b-419d-8bbb-6c09c93e0ae1",
   "metadata": {},
   "outputs": [],
   "source": [
    "import time\n",
    "import os"
   ]
  },
  {
   "cell_type": "code",
   "execution_count": 34,
   "id": "7134e945-998b-4d4e-9dfe-b6349aba8e7e",
   "metadata": {},
   "outputs": [],
   "source": [
    "def create_html(TYPE, search, resultPath_list):\n",
    "    dirr = time.strftime(\"./SearchHtmlResults/{}/%Y-%m-%d\").format(TYPE)\n",
    "    # print(\"dirr: \", dirr)\n",
    "    os.makedirs(dirr, exist_ok=True)\n",
    "    html_str = '<div class=\"t\">\\n'\n",
    "    html_str += '\\t<h2>{} Search:</h2>\\n'.format(TYPE)\n",
    "    if TYPE == \"Image\":\n",
    "        html_str += '\\t<img src=\"../../../../../..{}\" width=\"300\"/>\\n'.format(search)\n",
    "    elif TYPE == \"Text\":\n",
    "        html_str += '\\t<h3>QUERY={}</h3>\\n'.format(search)\n",
    "    html_str += '\\t<h2>Results:</h2>\\n'\n",
    "    for i in range(len(resultPath_list)):\n",
    "        html_str += '\\t<h3>{}.</h3>\\n'.format(i+1)\n",
    "        html_str += '\\t<img src=\"../../../../../..{}\" width=\"300\"/>\\n'.format(resultPath_list[i])\n",
    "    html_str += '</div>'\n",
    "    Html_file= open(\"{}/filename.html\".format(dirr),\"w\")\n",
    "    Html_file.write(html_str)\n",
    "    Html_file.close()\n",
    "    return html_str"
   ]
  },
  {
   "cell_type": "code",
   "execution_count": 35,
   "id": "a9847132-1c69-4382-be03-2df6bbeafbef",
   "metadata": {},
   "outputs": [],
   "source": [
    "html_str = create_html(\"Image\", search, resultPath_list)\n",
    "html_str = create_html(\"Text\", \"ABC\", resultPath_list)"
   ]
  },
  {
   "cell_type": "code",
   "execution_count": null,
   "id": "04bd3568-705e-49f7-944c-5313616aec2e",
   "metadata": {},
   "outputs": [],
   "source": []
  }
 ],
 "metadata": {
  "kernelspec": {
   "display_name": "Python 3 (ipykernel)",
   "language": "python",
   "name": "python3"
  },
  "language_info": {
   "codemirror_mode": {
    "name": "ipython",
    "version": 3
   },
   "file_extension": ".py",
   "mimetype": "text/x-python",
   "name": "python",
   "nbconvert_exporter": "python",
   "pygments_lexer": "ipython3",
   "version": "3.8.10"
  }
 },
 "nbformat": 4,
 "nbformat_minor": 5
}
